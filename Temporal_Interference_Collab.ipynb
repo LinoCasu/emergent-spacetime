{
  "cells": [
    {
      "cell_type": "markdown",
      "metadata": {},
      "source": [
        "# Spacetime Interference Animation\n",
        "Dieses Notebook enth\u00e4lt das Script zur Visualisierung der Spacetime-Interferenz."
      ]
    },
    {
      "cell_type": "code",
      "execution_count": null,
      "metadata": {},
      "outputs": [],
      "source": [
        "import numpy as np\n",
        "import matplotlib.pyplot as plt\n",
        "from matplotlib.animation import FuncAnimation\n",
        "\n",
        "# Create temporal grid\n",
        "x = np.linspace(-1, 1, 500)\n",
        "y = np.linspace(-1, 1, 500)\n",
        "X, Y = np.meshgrid(x, y)\n",
        "\n",
        "# Define directional angles (e.g. 5-fold symmetry)\n",
        "angles = np.radians(np.arange(0, 360, 72))\n",
        "np.random.seed(42)\n",
        "phases = np.random.uniform(0, 2 * np.pi, len(angles))\n",
        "wavelengths = np.full(len(angles), 0.1)  # fixed short wavelength\n",
        "\n",
        "# Setup figure\n",
        "fig, ax = plt.subplots()\n",
        "cax = ax.imshow(np.zeros_like(X), cmap='inferno', extent=[-1, 1, -1, 1])\n",
        "ax.set_title(\"Spacetime Interference\")\n",
        "ax.set_xlabel(\"proper time $t_x$\")\n",
        "ax.set_ylabel(\"observer time $t_y$\")\n",
        "ax.set_xticks([]); ax.set_yticks([])\n",
        "\n",
        "# Animation update function\n",
        "def update(frame):\n",
        "    field = np.zeros_like(X)\n",
        "    for i, theta in enumerate(angles):\n",
        "        projection = np.cos(theta) * X + np.sin(theta) * Y\n",
        "        field += np.sin(3 * np.pi * projection / wavelengths[i] + phases[i] + 0.1 * frame)\n",
        "    field = np.abs(field) ** 3\n",
        "    cax.set_data(field)\n",
        "    cax.set_clim(np.min(field), np.max(field))\n",
        "    return [cax]\n",
        "\n",
        "# Animate\n",
        "ani = FuncAnimation(fig, update, frames=100, interval=50, blit=True)\n",
        "plt.show()\n"
      ]
    }
  ],
  "metadata": {
    "kernelspec": {
      "display_name": "Python 3",
      "language": "python",
      "name": "python3"
    },
    "language_info": {
      "name": "python",
      "version": "3.x"
    }
  },
  "nbformat": 4,
  "nbformat_minor": 5
}